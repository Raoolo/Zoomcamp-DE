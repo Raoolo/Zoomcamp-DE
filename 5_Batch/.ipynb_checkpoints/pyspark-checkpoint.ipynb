{
 "cells": [
  {
   "cell_type": "code",
   "execution_count": 1,
   "id": "b4f46e03",
   "metadata": {},
   "outputs": [],
   "source": [
    "import pyspark\n",
    "from pyspark.sql import SparkSession"
   ]
  },
  {
   "cell_type": "code",
   "execution_count": 2,
   "id": "56f44ad2",
   "metadata": {},
   "outputs": [
    {
     "name": "stdout",
     "output_type": "stream",
     "text": [
      "24/08/29 15:17:01 WARN Utils: Your hostname, RaulPC resolves to a loopback address: 127.0.1.1; using 10.255.255.254 instead (on interface lo)\n",
      "24/08/29 15:17:01 WARN Utils: Set SPARK_LOCAL_IP if you need to bind to another address\n"
     ]
    },
    {
     "name": "stderr",
     "output_type": "stream",
     "text": [
      "Setting default log level to \"WARN\".\n",
      "To adjust logging level use sc.setLogLevel(newLevel). For SparkR, use setLogLevel(newLevel).\n"
     ]
    },
    {
     "name": "stdout",
     "output_type": "stream",
     "text": [
      "24/08/29 15:17:02 WARN NativeCodeLoader: Unable to load native-hadoop library for your platform... using builtin-java classes where applicable\n"
     ]
    }
   ],
   "source": [
    "spark = SparkSession.builder \\\n",
    "    .master(\"local[*]\") \\\n",
    "    .appName('test') \\\n",
    "    .getOrCreate()\n",
    "# this is an object used to interact with spark, the entry-point"
   ]
  },
  {
   "cell_type": "code",
   "execution_count": 3,
   "id": "8d39c9e6",
   "metadata": {},
   "outputs": [
    {
     "name": "stdout",
     "output_type": "stream",
     "text": [
      "--2024-08-29 15:22:35--  https://d37ci6vzurychx.cloudfront.net/trip-data/fhvhv_tripdata_2021-01.parquet\n",
      "Resolving d37ci6vzurychx.cloudfront.net (d37ci6vzurychx.cloudfront.net)... 3.165.247.79, 3.165.247.187, 3.165.247.72, ...\n",
      "Connecting to d37ci6vzurychx.cloudfront.net (d37ci6vzurychx.cloudfront.net)|3.165.247.79|:443... connected.\n",
      "HTTP request sent, awaiting response... 200 OK\n",
      "Length: 308924937 (295M) [application/x-www-form-urlencoded]\n",
      "Saving to: ‘fhvhv_tripdata_2021-01.parquet’\n",
      "\n",
      "fhvhv_tripdata_2021 100%[===================>] 294.61M  8.57MB/s    in 39s     \n",
      "\n",
      "2024-08-29 15:23:14 (7.65 MB/s) - ‘fhvhv_tripdata_2021-01.parquet’ saved [308924937/308924937]\n",
      "\n"
     ]
    }
   ],
   "source": [
    "!wget https://d37ci6vzurychx.cloudfront.net/trip-data/fhvhv_tripdata_2021-01.parquet"
   ]
  },
  {
   "cell_type": "code",
   "execution_count": 4,
   "id": "1c74b360",
   "metadata": {},
   "outputs": [],
   "source": [
    "df = spark.read \\\n",
    "    .option(\"header\", \"true\") \\\n",
    "    .parquet('fhvhv_tripdata_2021-01.parquet')"
   ]
  },
  {
   "cell_type": "code",
   "execution_count": 7,
   "id": "19b826fb",
   "metadata": {},
   "outputs": [
    {
     "data": {
      "text/plain": [
       "[Row(hvfhs_license_num='HV0003', dispatching_base_num='B02682', originating_base_num='B02682', request_datetime=datetime.datetime(2021, 1, 1, 1, 28, 9), on_scene_datetime=datetime.datetime(2021, 1, 1, 1, 31, 42), pickup_datetime=datetime.datetime(2021, 1, 1, 1, 33, 44), dropoff_datetime=datetime.datetime(2021, 1, 1, 1, 49, 7), PULocationID=230, DOLocationID=166, trip_miles=5.26, trip_time=923, base_passenger_fare=22.28, tolls=0.0, bcf=0.67, sales_tax=1.98, congestion_surcharge=2.75, airport_fee=None, tips=0.0, driver_pay=14.99, shared_request_flag='N', shared_match_flag='N', access_a_ride_flag=' ', wav_request_flag='N', wav_match_flag='N'),\n",
       " Row(hvfhs_license_num='HV0003', dispatching_base_num='B02682', originating_base_num='B02682', request_datetime=datetime.datetime(2021, 1, 1, 1, 45, 56), on_scene_datetime=datetime.datetime(2021, 1, 1, 1, 55, 19), pickup_datetime=datetime.datetime(2021, 1, 1, 1, 55, 19), dropoff_datetime=datetime.datetime(2021, 1, 1, 2, 18, 21), PULocationID=152, DOLocationID=167, trip_miles=3.65, trip_time=1382, base_passenger_fare=18.36, tolls=0.0, bcf=0.55, sales_tax=1.63, congestion_surcharge=0.0, airport_fee=None, tips=0.0, driver_pay=17.06, shared_request_flag='N', shared_match_flag='N', access_a_ride_flag=' ', wav_request_flag='N', wav_match_flag='N'),\n",
       " Row(hvfhs_license_num='HV0003', dispatching_base_num='B02764', originating_base_num='B02764', request_datetime=datetime.datetime(2021, 1, 1, 1, 21, 15), on_scene_datetime=datetime.datetime(2021, 1, 1, 1, 22, 41), pickup_datetime=datetime.datetime(2021, 1, 1, 1, 23, 56), dropoff_datetime=datetime.datetime(2021, 1, 1, 1, 38, 5), PULocationID=233, DOLocationID=142, trip_miles=3.51, trip_time=849, base_passenger_fare=14.05, tolls=0.0, bcf=0.48, sales_tax=1.25, congestion_surcharge=2.75, airport_fee=None, tips=0.94, driver_pay=12.98, shared_request_flag='N', shared_match_flag='N', access_a_ride_flag=' ', wav_request_flag='N', wav_match_flag='N'),\n",
       " Row(hvfhs_license_num='HV0003', dispatching_base_num='B02764', originating_base_num='B02764', request_datetime=datetime.datetime(2021, 1, 1, 1, 39, 12), on_scene_datetime=datetime.datetime(2021, 1, 1, 1, 42, 37), pickup_datetime=datetime.datetime(2021, 1, 1, 1, 42, 51), dropoff_datetime=datetime.datetime(2021, 1, 1, 1, 45, 50), PULocationID=142, DOLocationID=143, trip_miles=0.74, trip_time=179, base_passenger_fare=7.91, tolls=0.0, bcf=0.24, sales_tax=0.7, congestion_surcharge=2.75, airport_fee=None, tips=0.0, driver_pay=7.41, shared_request_flag='N', shared_match_flag='N', access_a_ride_flag=' ', wav_request_flag='N', wav_match_flag='N'),\n",
       " Row(hvfhs_license_num='HV0003', dispatching_base_num='B02764', originating_base_num='B02764', request_datetime=datetime.datetime(2021, 1, 1, 1, 46, 11), on_scene_datetime=datetime.datetime(2021, 1, 1, 1, 47, 17), pickup_datetime=datetime.datetime(2021, 1, 1, 1, 48, 14), dropoff_datetime=datetime.datetime(2021, 1, 1, 2, 8, 42), PULocationID=143, DOLocationID=78, trip_miles=9.2, trip_time=1228, base_passenger_fare=27.11, tolls=0.0, bcf=0.81, sales_tax=2.41, congestion_surcharge=2.75, airport_fee=None, tips=0.0, driver_pay=22.44, shared_request_flag='N', shared_match_flag='N', access_a_ride_flag=' ', wav_request_flag='N', wav_match_flag='N')]"
      ]
     },
     "execution_count": 7,
     "metadata": {},
     "output_type": "execute_result"
    }
   ],
   "source": [
    "df.head(5) # it does not infer the type of csv, but parquet does not have this problem"
   ]
  },
  {
   "cell_type": "code",
   "execution_count": 9,
   "id": "24159445",
   "metadata": {},
   "outputs": [
    {
     "data": {
      "text/plain": [
       "StructType([StructField('hvfhs_license_num', StringType(), True), StructField('dispatching_base_num', StringType(), True), StructField('originating_base_num', StringType(), True), StructField('request_datetime', TimestampType(), True), StructField('on_scene_datetime', TimestampType(), True), StructField('pickup_datetime', TimestampType(), True), StructField('dropoff_datetime', TimestampType(), True), StructField('PULocationID', LongType(), True), StructField('DOLocationID', LongType(), True), StructField('trip_miles', DoubleType(), True), StructField('trip_time', LongType(), True), StructField('base_passenger_fare', DoubleType(), True), StructField('tolls', DoubleType(), True), StructField('bcf', DoubleType(), True), StructField('sales_tax', DoubleType(), True), StructField('congestion_surcharge', DoubleType(), True), StructField('airport_fee', DoubleType(), True), StructField('tips', DoubleType(), True), StructField('driver_pay', DoubleType(), True), StructField('shared_request_flag', StringType(), True), StructField('shared_match_flag', StringType(), True), StructField('access_a_ride_flag', StringType(), True), StructField('wav_request_flag', StringType(), True), StructField('wav_match_flag', StringType(), True)])"
      ]
     },
     "execution_count": 9,
     "metadata": {},
     "output_type": "execute_result"
    }
   ],
   "source": [
    "df.schema   # everything is a string in csv (not here btw), check the code of ex 4 week 5 for the infering of types"
   ]
  },
  {
   "cell_type": "code",
   "execution_count": 14,
   "id": "c3d76225",
   "metadata": {},
   "outputs": [],
   "source": [
    "# we want to create many partitions from the large single file\n",
    "df = df.repartition(24)   # this is lazy, does not trigger until the next action is called"
   ]
  },
  {
   "cell_type": "code",
   "execution_count": 15,
   "id": "bb865918",
   "metadata": {},
   "outputs": [
    {
     "name": "stderr",
     "output_type": "stream",
     "text": [
      "[Stage 9:>                                                         (0 + 8) / 24]\r"
     ]
    },
    {
     "name": "stdout",
     "output_type": "stream",
     "text": [
      "24/08/29 15:38:49 WARN MemoryManager: Total allocation exceeds 95.00% (1,020,054,720 bytes) of heap memory\n",
      "Scaling row group sizes to 95.00% for 8 writers\n"
     ]
    },
    {
     "name": "stderr",
     "output_type": "stream",
     "text": [
      "\r",
      "[Stage 9:===================>                                      (8 + 8) / 24]\r"
     ]
    },
    {
     "name": "stdout",
     "output_type": "stream",
     "text": [
      "24/08/29 15:38:58 WARN MemoryManager: Total allocation exceeds 95.00% (1,020,054,720 bytes) of heap memory\n",
      "Scaling row group sizes to 95.00% for 8 writers\n"
     ]
    },
    {
     "name": "stderr",
     "output_type": "stream",
     "text": [
      "\r",
      "[Stage 9:=====================>                                    (9 + 8) / 24]\r"
     ]
    },
    {
     "name": "stdout",
     "output_type": "stream",
     "text": [
      "24/08/29 15:39:03 WARN MemoryManager: Total allocation exceeds 95.00% (1,020,054,720 bytes) of heap memory\n",
      "Scaling row group sizes to 95.00% for 8 writers\n"
     ]
    },
    {
     "name": "stderr",
     "output_type": "stream",
     "text": [
      "\r",
      "[Stage 9:======================================>                  (16 + 8) / 24]\r"
     ]
    },
    {
     "name": "stdout",
     "output_type": "stream",
     "text": [
      "24/08/29 15:39:03 WARN MemoryManager: Total allocation exceeds 95.00% (1,020,054,720 bytes) of heap memory\n",
      "Scaling row group sizes to 95.00% for 8 writers\n"
     ]
    },
    {
     "name": "stderr",
     "output_type": "stream",
     "text": [
      "                                                                                \r"
     ]
    }
   ],
   "source": [
    "df.write.parquet('fhvhv/2021/01/', mode=\"overwrite\")"
   ]
  },
  {
   "cell_type": "code",
   "execution_count": 17,
   "id": "0f6251bf",
   "metadata": {},
   "outputs": [
    {
     "name": "stdout",
     "output_type": "stream",
     "text": [
      "root\n",
      " |-- hvfhs_license_num: string (nullable = true)\n",
      " |-- dispatching_base_num: string (nullable = true)\n",
      " |-- originating_base_num: string (nullable = true)\n",
      " |-- request_datetime: timestamp (nullable = true)\n",
      " |-- on_scene_datetime: timestamp (nullable = true)\n",
      " |-- pickup_datetime: timestamp (nullable = true)\n",
      " |-- dropoff_datetime: timestamp (nullable = true)\n",
      " |-- PULocationID: long (nullable = true)\n",
      " |-- DOLocationID: long (nullable = true)\n",
      " |-- trip_miles: double (nullable = true)\n",
      " |-- trip_time: long (nullable = true)\n",
      " |-- base_passenger_fare: double (nullable = true)\n",
      " |-- tolls: double (nullable = true)\n",
      " |-- bcf: double (nullable = true)\n",
      " |-- sales_tax: double (nullable = true)\n",
      " |-- congestion_surcharge: double (nullable = true)\n",
      " |-- airport_fee: double (nullable = true)\n",
      " |-- tips: double (nullable = true)\n",
      " |-- driver_pay: double (nullable = true)\n",
      " |-- shared_request_flag: string (nullable = true)\n",
      " |-- shared_match_flag: string (nullable = true)\n",
      " |-- access_a_ride_flag: string (nullable = true)\n",
      " |-- wav_request_flag: string (nullable = true)\n",
      " |-- wav_match_flag: string (nullable = true)\n",
      "\n"
     ]
    }
   ],
   "source": [
    "df.printSchema()"
   ]
  },
  {
   "cell_type": "code",
   "execution_count": 19,
   "id": "e6f545ab",
   "metadata": {},
   "outputs": [
    {
     "name": "stderr",
     "output_type": "stream",
     "text": [
      "\r",
      "[Stage 10:==================================================>       (7 + 1) / 8]\r"
     ]
    },
    {
     "name": "stdout",
     "output_type": "stream",
     "text": [
      "+-------------------+-------------------+\n",
      "|    pickup_datetime|   dropoff_datetime|\n",
      "+-------------------+-------------------+\n",
      "|2021-01-12 16:30:40|2021-01-12 17:08:15|\n",
      "|2021-01-31 15:51:25|2021-01-31 16:14:06|\n",
      "|2021-01-02 17:56:36|2021-01-02 18:43:44|\n",
      "|2021-01-16 19:31:36|2021-01-16 19:42:09|\n",
      "|2021-01-08 22:18:46|2021-01-08 22:25:25|\n",
      "|2021-01-21 13:40:46|2021-01-21 13:48:52|\n",
      "|2021-01-16 20:03:40|2021-01-16 20:10:20|\n",
      "|2021-01-04 06:24:56|2021-01-04 06:30:51|\n",
      "|2021-01-08 15:22:38|2021-01-08 15:34:42|\n",
      "|2021-01-16 21:35:50|2021-01-16 21:47:50|\n",
      "|2021-01-24 22:32:43|2021-01-24 22:57:19|\n",
      "|2021-01-20 00:25:30|2021-01-20 00:41:13|\n",
      "|2021-01-15 16:42:20|2021-01-15 16:52:34|\n",
      "|2021-01-28 20:33:36|2021-01-28 20:49:19|\n",
      "|2021-01-10 20:39:03|2021-01-10 20:46:45|\n",
      "|2021-01-10 01:26:38|2021-01-10 01:34:48|\n",
      "|2021-01-22 17:03:38|2021-01-22 17:20:57|\n",
      "|2021-01-27 21:24:35|2021-01-27 21:39:28|\n",
      "|2021-01-20 03:05:18|2021-01-20 03:26:38|\n",
      "|2021-01-17 15:36:45|2021-01-17 15:42:07|\n",
      "+-------------------+-------------------+\n",
      "only showing top 20 rows\n",
      "\n"
     ]
    },
    {
     "name": "stderr",
     "output_type": "stream",
     "text": [
      "\r",
      "                                                                                \r"
     ]
    }
   ],
   "source": [
    "df.select('pickup_datetime', 'dropoff_datetime').filter(df.hvfhs_license_num == 'HV0003').show()  # filter is lazy"
   ]
  },
  {
   "cell_type": "code",
   "execution_count": 20,
   "id": "93cb78f7",
   "metadata": {},
   "outputs": [],
   "source": [
    "from pyspark.sql import functions as F"
   ]
  },
  {
   "cell_type": "code",
   "execution_count": 23,
   "id": "eb984d4a",
   "metadata": {},
   "outputs": [
    {
     "name": "stderr",
     "output_type": "stream",
     "text": [
      "\r",
      "[Stage 13:==================================================>       (7 + 1) / 8]\r"
     ]
    },
    {
     "name": "stdout",
     "output_type": "stream",
     "text": [
      "+-----------+------------+------------+------------+\n",
      "|pickup_date|dropoff_date|PULocationID|DOLocationID|\n",
      "+-----------+------------+------------+------------+\n",
      "| 2021-01-26|  2021-01-26|         247|         200|\n",
      "| 2021-01-29|  2021-01-29|          61|         119|\n",
      "| 2021-01-27|  2021-01-27|         248|         182|\n",
      "| 2021-01-04|  2021-01-04|         225|          97|\n",
      "| 2021-01-25|  2021-01-25|         233|         140|\n",
      "| 2021-01-15|  2021-01-15|          20|         265|\n",
      "| 2021-01-23|  2021-01-23|         137|         226|\n",
      "| 2021-01-20|  2021-01-20|         126|         254|\n",
      "| 2021-01-23|  2021-01-23|          50|         166|\n",
      "| 2021-01-01|  2021-01-01|          28|         129|\n",
      "| 2021-01-23|  2021-01-23|          68|         265|\n",
      "| 2021-01-28|  2021-01-28|          28|         134|\n",
      "| 2021-01-15|  2021-01-15|         159|          18|\n",
      "| 2021-01-05|  2021-01-05|          37|         256|\n",
      "| 2021-01-04|  2021-01-04|          35|         177|\n",
      "| 2021-01-17|  2021-01-17|          85|          35|\n",
      "| 2021-01-30|  2021-01-30|         240|          82|\n",
      "| 2021-01-30|  2021-01-30|         226|         142|\n",
      "| 2021-01-13|  2021-01-13|         254|          51|\n",
      "| 2021-01-06|  2021-01-06|         126|         126|\n",
      "+-----------+------------+------------+------------+\n",
      "only showing top 20 rows\n",
      "\n"
     ]
    },
    {
     "name": "stderr",
     "output_type": "stream",
     "text": [
      "\r",
      "                                                                                \r"
     ]
    }
   ],
   "source": [
    "df \\\n",
    "    .withColumn('pickup_date', F.to_date(df.pickup_datetime)) \\\n",
    "    .withColumn('dropoff_date', F.to_date(df.dropoff_datetime)) \\\n",
    "    .select('pickup_date', 'dropoff_date', 'PULocationID', 'DOLocationID') \\\n",
    "    .show()\n",
    "\n",
    " # transformation that adds new column pickup_date and insert the to_date(pickup_datetime)"
   ]
  },
  {
   "cell_type": "code",
   "execution_count": 30,
   "id": "66bca049",
   "metadata": {},
   "outputs": [],
   "source": [
    "from pyspark.sql import types"
   ]
  },
  {
   "cell_type": "code",
   "execution_count": 24,
   "id": "4c1c3ca9",
   "metadata": {},
   "outputs": [],
   "source": [
    "def crazy_stuff(base_num):\n",
    "    num = int(base_num[1:])\n",
    "    if num % 7 == 0:\n",
    "        return f's/{num:03x}'\n",
    "    elif num % 3 == 0:\n",
    "        return f'a/{num:03x}'\n",
    "    else:\n",
    "        return f'e/{num:03x}'"
   ]
  },
  {
   "cell_type": "code",
   "execution_count": 31,
   "id": "8563e2fc",
   "metadata": {},
   "outputs": [],
   "source": [
    "# you can create user defined functions (UDF) like this \n",
    "crazy_stuff_udf=F.udf(crazy_stuff,  returnType= types.StringType())\n",
    "# and then you apply it similarly to the others"
   ]
  },
  {
   "cell_type": "code",
   "execution_count": 29,
   "id": "25a227b5",
   "metadata": {},
   "outputs": [
    {
     "name": "stdout",
     "output_type": "stream",
     "text": [
      "24/08/29 16:15:39 WARN package: Truncated the string representation of a plan since it was too large. This behavior can be adjusted by setting 'spark.sql.debug.maxToStringFields'.\n"
     ]
    },
    {
     "name": "stderr",
     "output_type": "stream",
     "text": [
      "[Stage 18:>                                                         (0 + 1) / 1]\r"
     ]
    },
    {
     "name": "stdout",
     "output_type": "stream",
     "text": [
      "+-----------------+--------------------+--------------------+-------------------+-------------------+-------------------+-------------------+------------+------------+----------+---------+-------------------+-----+----+---------+--------------------+-----------+-----+----------+-------------------+-----------------+------------------+----------------+--------------+-----------+------------+-------+\n",
      "|hvfhs_license_num|dispatching_base_num|originating_base_num|   request_datetime|  on_scene_datetime|    pickup_datetime|   dropoff_datetime|PULocationID|DOLocationID|trip_miles|trip_time|base_passenger_fare|tolls| bcf|sales_tax|congestion_surcharge|airport_fee| tips|driver_pay|shared_request_flag|shared_match_flag|access_a_ride_flag|wav_request_flag|wav_match_flag|pickup_date|dropoff_date|base_id|\n",
      "+-----------------+--------------------+--------------------+-------------------+-------------------+-------------------+-------------------+------------+------------+----------+---------+-------------------+-----+----+---------+--------------------+-----------+-----+----------+-------------------+-----------------+------------------+----------------+--------------+-----------+------------+-------+\n",
      "|           HV0003|              B02764|              B02764|2021-01-08 16:32:37|2021-01-08 16:34:31|2021-01-08 16:35:29|2021-01-08 16:50:56|         205|         130|      2.74|      927|              11.34|  0.0|0.34|     1.01|                 0.0|       null|  0.0|     10.78|                  N|                N|                  |               N|             N| 2021-01-08|  2021-01-08|  e/acc|\n",
      "|           HV0005|              B02510|                null|2021-01-16 20:01:57|               null|2021-01-16 20:05:05|2021-01-16 20:15:55|          39|          39|     1.957|      650|               8.09|  0.0|0.24|     0.72|                 0.0|       null|  0.0|      7.62|                  N|                N|                 N|               N|             N| 2021-01-16|  2021-01-16|  e/9ce|\n",
      "|           HV0003|              B02764|              B02764|2021-01-19 09:31:19|2021-01-19 09:31:49|2021-01-19 09:33:49|2021-01-19 09:45:33|         233|         140|      1.69|      704|               13.0|  0.0|0.39|     1.15|                2.75|       null|  0.0|      8.46|                  N|                N|                  |               N|             N| 2021-01-19|  2021-01-19|  e/acc|\n",
      "|           HV0003|              B02879|              B02879|2021-01-27 07:13:33|2021-01-27 07:15:24|2021-01-27 07:15:43|2021-01-27 07:22:26|           3|         174|       1.9|      403|               6.47|  0.0|0.19|     0.57|                 0.0|       null|  0.0|      5.47|                  N|                N|                  |               N|             N| 2021-01-27|  2021-01-27|  e/b3f|\n",
      "|           HV0003|              B02877|              B02877|2021-01-20 13:57:01|2021-01-20 13:58:07|2021-01-20 14:00:07|2021-01-20 14:13:10|         107|          68|      1.61|      783|               9.65|  0.0| 0.3|     0.88|                2.75|       null|  3.0|      8.33|                  N|                N|                  |               N|             N| 2021-01-20|  2021-01-20|  s/b3d|\n",
      "|           HV0005|              B02510|                null|2021-01-01 05:09:54|               null|2021-01-01 05:14:40|2021-01-01 05:33:53|         186|         152|     6.733|     1153|              23.46|  0.0| 0.7|     2.08|                2.75|       null|  0.0|     17.13|                  N|                N|                 N|               N|             N| 2021-01-01|  2021-01-01|  e/9ce|\n",
      "|           HV0003|              B02682|              B02682|2021-01-29 05:00:46|2021-01-29 05:04:16|2021-01-29 05:06:07|2021-01-29 05:11:38|         177|         225|      1.06|      331|               6.33|  0.0|0.19|     0.56|                 0.0|       null|  0.0|       5.4|                  N|                N|                  |               N|             N| 2021-01-29|  2021-01-29|  a/a7a|\n",
      "|           HV0005|              B02510|                null|2021-01-04 14:52:24|               null|2021-01-04 14:56:17|2021-01-04 15:10:35|         260|         234|     5.538|      858|              22.36| 5.56|0.84|     2.48|                2.75|       null|  5.0|     13.33|                  N|                N|                 N|               N|             N| 2021-01-04|  2021-01-04|  e/9ce|\n",
      "|           HV0003|              B02869|              B02869|2021-01-27 11:10:06|2021-01-27 11:11:48|2021-01-27 11:12:34|2021-01-27 11:21:12|          69|          47|      1.62|      518|                8.6|  0.0|0.26|     0.76|                 0.0|       null|  0.0|      6.13|                  N|                N|                  |               N|             N| 2021-01-27|  2021-01-27|  e/b35|\n",
      "|           HV0003|              B02887|              B02887|2021-01-20 11:18:57|2021-01-20 11:20:58|2021-01-20 11:21:28|2021-01-20 11:29:09|          35|          77|      1.61|      461|               7.67|  0.0|0.23|     0.68|                 0.0|       null|  0.0|      5.64|                  N|                N|                  |               N|             N| 2021-01-20|  2021-01-20|  e/b47|\n",
      "|           HV0003|              B02864|              B02864|2021-01-22 09:50:19|2021-01-22 09:55:30|2021-01-22 09:55:40|2021-01-22 10:02:20|         208|         242|       1.3|      400|               7.12|  0.0|0.21|     0.63|                 0.0|       null|  0.0|       5.4|                  N|                N|                  |               N|             N| 2021-01-22|  2021-01-22|  e/b30|\n",
      "|           HV0005|              B02510|                null|2021-01-10 20:06:45|               null|2021-01-10 20:09:42|2021-01-10 20:34:34|          49|         146|     6.728|     1492|              26.75|  0.0| 0.8|     2.37|                 0.0|       null|  0.0|     19.96|                  N|                N|                 N|               N|             N| 2021-01-10|  2021-01-10|  e/9ce|\n",
      "|           HV0003|              B02879|              B02879|2021-01-29 11:10:34|2021-01-29 11:12:09|2021-01-29 11:12:47|2021-01-29 11:28:29|         247|         159|      2.46|      942|              10.71|  0.0|0.32|     0.95|                 0.0|       null|  0.0|      10.6|                  N|                N|                  |               N|             N| 2021-01-29|  2021-01-29|  e/b3f|\n",
      "|           HV0003|              B02887|              B02887|2021-01-23 14:57:30|2021-01-23 15:00:32|2021-01-23 15:00:46|2021-01-23 15:03:34|         113|         234|      0.47|      168|               7.91|  0.0|0.24|      0.7|                2.75|       null|  1.0|      5.39|                  N|                N|                  |               N|             N| 2021-01-23|  2021-01-23|  e/b47|\n",
      "|           HV0005|              B02510|                null|2021-01-16 13:15:40|               null|2021-01-16 13:20:55|2021-01-16 13:42:53|          74|          49|    11.185|     1318|              33.31| 2.29|1.07|     3.16|                 0.0|       null|  2.0|     23.45|                  N|                N|                 N|               N|             N| 2021-01-16|  2021-01-16|  e/9ce|\n",
      "|           HV0005|              B02510|                null|2021-01-08 15:27:47|               null|2021-01-08 15:31:22|2021-01-08 16:08:44|          42|         191|    17.132|     2242|              58.73| 6.51|1.96|     5.79|                 0.0|       null|10.95|      37.8|                  N|                N|                 N|               N|             N| 2021-01-08|  2021-01-08|  e/9ce|\n",
      "|           HV0005|              B02510|                null|2021-01-24 17:38:29|               null|2021-01-24 17:42:25|2021-01-24 18:10:22|          37|         249|     5.972|     1677|              29.13|  0.0|0.87|     2.59|                2.75|       null|  5.0|     20.68|                  N|                N|                 N|               N|             N| 2021-01-24|  2021-01-24|  e/9ce|\n",
      "|           HV0005|              B02510|                null|2021-01-27 23:08:38|               null|2021-01-27 23:12:01|2021-01-27 23:19:21|         226|         145|     1.274|      440|               7.68|  0.0|0.23|     0.68|                 0.0|       null|  0.0|      5.47|                  N|                N|                 N|               N|             N| 2021-01-27|  2021-01-27|  e/9ce|\n",
      "|           HV0003|              B02877|              B02877|2021-01-01 20:36:41|2021-01-01 20:40:08|2021-01-01 20:40:28|2021-01-01 20:48:16|         185|          20|      1.56|      468|              10.98|  0.0|0.33|     0.97|                 0.0|       null|  0.0|      7.91|                  N|                N|                  |               N|             N| 2021-01-01|  2021-01-01|  s/b3d|\n",
      "|           HV0003|              B02872|              B02872|2021-01-28 00:17:35|2021-01-28 00:20:16|2021-01-28 00:20:38|2021-01-28 00:41:23|         148|         168|      10.1|     1245|              25.74|  0.0|0.77|     2.29|                2.75|       null|  0.0|     21.56|                  N|                N|                  |               N|             N| 2021-01-28|  2021-01-28|  e/b38|\n",
      "+-----------------+--------------------+--------------------+-------------------+-------------------+-------------------+-------------------+------------+------------+----------+---------+-------------------+-----+----+---------+--------------------+-----------+-----+----------+-------------------+-----------------+------------------+----------------+--------------+-----------+------------+-------+\n",
      "only showing top 20 rows\n",
      "\n"
     ]
    },
    {
     "name": "stderr",
     "output_type": "stream",
     "text": [
      "\r",
      "                                                                                \r"
     ]
    }
   ],
   "source": [
    "df \\\n",
    "    .withColumn('pickup_date', F.to_date(df.pickup_datetime)) \\\n",
    "    .withColumn('dropoff_date', F.to_date(df.dropoff_datetime)) \\\n",
    "    .withColumn('base_id', crazy_stuff_udf(df.dispatching_base_num))\\\n",
    "    .select('pickup_date', 'dropoff_date', 'base_id', 'PULocationID', 'DOLocationID') \\\n",
    "    .show()"
   ]
  }
 ],
 "metadata": {
  "kernelspec": {
   "display_name": "Python 3 (ipykernel)",
   "language": "python",
   "name": "python3"
  },
  "language_info": {
   "codemirror_mode": {
    "name": "ipython",
    "version": 3
   },
   "file_extension": ".py",
   "mimetype": "text/x-python",
   "name": "python",
   "nbconvert_exporter": "python",
   "pygments_lexer": "ipython3",
   "version": "3.10.9"
  }
 },
 "nbformat": 4,
 "nbformat_minor": 5
}
